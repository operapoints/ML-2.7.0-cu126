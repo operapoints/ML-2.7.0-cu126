{
 "cells": [
  {
   "cell_type": "markdown",
   "id": "dee271fe",
   "metadata": {},
   "source": [
    "# About\n",
    "\n",
    "These cells save the normalized, toTensor CIFAR10 datasets as .pt objects\n",
    "\n",
    "Trainset: (50000,3,32,32), (50000)\n",
    "Testset: (10000,3,32,32), (10000)"
   ]
  },
  {
   "cell_type": "code",
   "execution_count": 1,
   "id": "d8b0347e",
   "metadata": {},
   "outputs": [],
   "source": [
    "import torch\n",
    "import torchvision\n",
    "import torchvision.transforms as transforms"
   ]
  },
  {
   "cell_type": "code",
   "execution_count": 2,
   "id": "e94ff2eb",
   "metadata": {},
   "outputs": [],
   "source": [
    "transform = transforms.Compose([transforms.ToTensor(),\n",
    "transforms.Normalize((0.5,0.5,0.5),(0.5,0.5,0.5))])\n",
    "\n",
    "trainset = torchvision.datasets.CIFAR10(\n",
    "    root = '../datasets',\n",
    "    train = True,\n",
    "    download=True,\n",
    "    transform = transform\n",
    ")\n",
    "\n",
    "testset = torchvision.datasets.CIFAR10(\n",
    "    root = '../datasets',\n",
    "    train = False,\n",
    "    download=True,\n",
    "    transform = transform\n",
    ")"
   ]
  },
  {
   "cell_type": "code",
   "execution_count": null,
   "id": "4141e69a",
   "metadata": {},
   "outputs": [],
   "source": [
    "\n",
    "\n",
    "def to_TensorDataset(dataset):\n",
    "    img_list = []\n",
    "    label_list = []\n",
    "    for img,label in dataset:\n",
    "        img_list.append(img)\n",
    "        label_list.append(label)\n",
    "    return torch.utils.data.TensorDataset(torch.stack(img_list),torch.tensor(label_list))\n",
    "\n",
    "torch.save(to_TensorDataset(trainset),'./dataset/CIFAR10_train.pt')\n",
    "\n"
   ]
  },
  {
   "cell_type": "code",
   "execution_count": 4,
   "id": "1b224e07",
   "metadata": {},
   "outputs": [],
   "source": [
    "torch.save(to_TensorDataset(testset),'./dataset/CIFAR10_test.pt')"
   ]
  }
 ],
 "metadata": {
  "kernelspec": {
   "display_name": "Python 3",
   "language": "python",
   "name": "python3"
  },
  "language_info": {
   "codemirror_mode": {
    "name": "ipython",
    "version": 3
   },
   "file_extension": ".py",
   "mimetype": "text/x-python",
   "name": "python",
   "nbconvert_exporter": "python",
   "pygments_lexer": "ipython3",
   "version": "3.11.13"
  }
 },
 "nbformat": 4,
 "nbformat_minor": 5
}
